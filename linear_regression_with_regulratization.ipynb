{
 "cells": [
  {
   "cell_type": "markdown",
   "id": "0668e11e",
   "metadata": {},
   "source": [
    "## Regularization"
   ]
  },
  {
   "cell_type": "code",
   "execution_count": 309,
   "id": "8dc04be8",
   "metadata": {},
   "outputs": [],
   "source": [
    "import numpy as np\n",
    "import matplotlib.pyplot as plt"
   ]
  },
  {
   "cell_type": "code",
   "execution_count": 310,
   "id": "266aa8b0",
   "metadata": {},
   "outputs": [
    {
     "data": {
      "text/plain": [
       "((7,), (7,))"
      ]
     },
     "execution_count": 310,
     "metadata": {},
     "output_type": "execute_result"
    }
   ],
   "source": [
    "x = np.loadtxt('./ex5Data/ex5Linx.dat', dtype=np.float32)\n",
    "y = np.loadtxt('./ex5Data/ex5Liny.dat', dtype=np.float32)\n",
    "x.shape, y.shape"
   ]
  },
  {
   "cell_type": "code",
   "execution_count": 311,
   "id": "1a1f92a1",
   "metadata": {},
   "outputs": [
    {
     "data": {
      "text/plain": [
       "array([-0.99768, -0.69574, -0.40373, -0.10236,  0.22024,  0.47742,\n",
       "        0.82229], dtype=float32)"
      ]
     },
     "execution_count": 311,
     "metadata": {},
     "output_type": "execute_result"
    }
   ],
   "source": [
    "x"
   ]
  },
  {
   "cell_type": "markdown",
   "id": "005da225",
   "metadata": {},
   "source": [
    "### Plot the Data"
   ]
  },
  {
   "cell_type": "code",
   "execution_count": 312,
   "id": "3b084033",
   "metadata": {},
   "outputs": [
    {
     "data": {
      "image/png": "[encoded data removed]",
      "text/plain": [
       "<Figure size 640x480 with 1 Axes>"
      ]
     },
     "metadata": {},
     "output_type": "display_data"
    }
   ],
   "source": [
    "plt.scatter(x,y, marker = 'o', c = 'r')\n",
    "plt.show()"
   ]
  },
  {
   "cell_type": "code",
   "execution_count": 313,
   "id": "0696a0d4",
   "metadata": {},
   "outputs": [
    {
     "data": {
      "text/plain": [
       "7"
      ]
     },
     "execution_count": 313,
     "metadata": {},
     "output_type": "execute_result"
    }
   ],
   "source": [
    "x.shape[0]"
   ]
  },
  {
   "cell_type": "markdown",
   "id": "c42c14bd",
   "metadata": {},
   "source": [
    "## Transforming x into a featured matric X for Polynomial regression up to the fifth order "
   ]
  },
  {
   "cell_type": "code",
   "execution_count": 314,
   "id": "ccc08dac",
   "metadata": {},
   "outputs": [],
   "source": [
    "X = x.reshape(x.shape[0], 1)"
   ]
  },
  {
   "cell_type": "code",
   "execution_count": 315,
   "id": "67de0049",
   "metadata": {},
   "outputs": [
    {
     "data": {
      "text/plain": [
       "array([[-0.99768],\n",
       "       [-0.69574],\n",
       "       [-0.40373],\n",
       "       [-0.10236],\n",
       "       [ 0.22024],\n",
       "       [ 0.47742],\n",
       "       [ 0.82229]], dtype=float32)"
      ]
     },
     "execution_count": 315,
     "metadata": {},
     "output_type": "execute_result"
    }
   ],
   "source": [
    "X"
   ]
  },
  {
   "cell_type": "code",
   "execution_count": 316,
   "id": "12a985cc",
   "metadata": {},
   "outputs": [
    {
     "data": {
      "text/plain": [
       "7"
      ]
     },
     "execution_count": 316,
     "metadata": {},
     "output_type": "execute_result"
    }
   ],
   "source": [
    "X.shape[0]"
   ]
  },
  {
   "cell_type": "code",
   "execution_count": 317,
   "id": "c3b61a6b",
   "metadata": {},
   "outputs": [],
   "source": [
    "X2 = X**2\n",
    "X3 = X**3\n",
    "X4 = X**4\n",
    "X5 = X**5\n",
    "X = np.concatenate((np.ones((X.shape[0], 1), dtype= np.float32), X,X2,X3,X4,X5 ), axis=1)"
   ]
  },
  {
   "cell_type": "code",
   "execution_count": 318,
   "id": "cf6298e1",
   "metadata": {},
   "outputs": [
    {
     "data": {
      "text/plain": [
       "(7, 6)"
      ]
     },
     "execution_count": 318,
     "metadata": {},
     "output_type": "execute_result"
    }
   ],
   "source": [
    "X.shape"
   ]
  },
  {
   "cell_type": "code",
   "execution_count": 319,
   "id": "f0843915",
   "metadata": {},
   "outputs": [
    {
     "data": {
      "text/plain": [
       "array([[ 1.00000000e+00, -9.97680008e-01,  9.95365381e-01,\n",
       "        -9.93056178e-01,  9.90752280e-01, -9.88453746e-01],\n",
       "       [ 1.00000000e+00, -6.95739985e-01,  4.84054118e-01,\n",
       "        -3.36775810e-01,  2.34308392e-01, -1.63017720e-01],\n",
       "       [ 1.00000000e+00, -4.03730005e-01,  1.62997916e-01,\n",
       "        -6.58071488e-02,  2.65683215e-02, -1.07264286e-02],\n",
       "       [ 1.00000000e+00, -1.02360003e-01,  1.04775699e-02,\n",
       "        -1.07248407e-03,  1.09779474e-04, -1.12370271e-05],\n",
       "       [ 1.00000000e+00,  2.20239997e-01,  4.85056564e-02,\n",
       "         1.06828855e-02,  2.35279859e-03,  5.18180372e-04],\n",
       "       [ 1.00000000e+00,  4.77420002e-01,  2.27929860e-01,\n",
       "         1.08818270e-01,  5.19520193e-02,  2.48029344e-02],\n",
       "       [ 1.00000000e+00,  8.22290003e-01,  6.76160872e-01,\n",
       "         5.56000292e-01,  4.57193494e-01,  3.75945628e-01]], dtype=float32)"
      ]
     },
     "execution_count": 319,
     "metadata": {},
     "output_type": "execute_result"
    }
   ],
   "source": [
    "X"
   ]
  },
  {
   "cell_type": "markdown",
   "id": "bd98c756",
   "metadata": {},
   "source": [
    "### Hypothesis , Cost and Gradient Function"
   ]
  },
  {
   "cell_type": "code",
   "execution_count": 320,
   "id": "eaf7bd6e",
   "metadata": {},
   "outputs": [],
   "source": [
    "def hypothesis(x,w):\n",
    "    return np.dot(x,w)"
   ]
  },
  {
   "cell_type": "markdown",
   "id": "2c880bb9",
   "metadata": {},
   "source": [
    "### Regularized Cost Function Formula"
   ]
  },
  {
   "cell_type": "code",
   "execution_count": 321,
   "id": "d7e22e5b",
   "metadata": {},
   "outputs": [],
   "source": [
    "def cost(x,y,w, lam):\n",
    "    reg_term = (lam / (2* x.shape[0])) * np.sum(w[1:]**2)\n",
    "    return ( 1 / ( 2 *x.shape[0])) * np.sum((hypothesis(x,w) - y)**2) ++ reg_term"
   ]
  },
  {
   "cell_type": "markdown",
   "id": "6f20c26e",
   "metadata": {},
   "source": [
    "#### Regularized Gradient Descent Formula:\n",
    "\n",
    "$$\\begin{align*}\n",
    "\\frac{\\partial J(\\mathbf{w},b)}{\\partial w_j}  &= \\frac{1}{m} \\sum\\limits_{i = 0}^{m-1} (f_{\\mathbf{w},b}(\\mathbf{x}^{(i)}) - y^{(i)})x_{j}^{(i)}  +  \\frac{\\lambda}{m} w_j \\\\\n",
    "\\frac{\\partial J(\\mathbf{w},b)}{\\partial b}  &= \\frac{1}{m} \\sum\\limits_{i = 0}^{m-1} (f_{\\mathbf{w},b}(\\mathbf{x}^{(i)}) - y^{(i)}) \n",
    "\\end{align*}$$"
   ]
  },
  {
   "cell_type": "code",
   "execution_count": 322,
   "id": "2126ac1a",
   "metadata": {},
   "outputs": [],
   "source": [
    "def gradient_theta(x,y,w,lam):\n",
    "    m = x.shape[0]\n",
    "    reg_term = lam/m*w\n",
    "    reg_term[0] = 0\n",
    "    return (1/m)*np.dot(x.T, (hypothesis(x,w)- y)) + reg_term"
   ]
  },
  {
   "cell_type": "code",
   "execution_count": 323,
   "id": "78804a97",
   "metadata": {},
   "outputs": [
    {
     "data": {
      "text/plain": [
       "6"
      ]
     },
     "execution_count": 323,
     "metadata": {},
     "output_type": "execute_result"
    }
   ],
   "source": [
    "X.shape[1]"
   ]
  },
  {
   "cell_type": "markdown",
   "id": "16f3083f",
   "metadata": {},
   "source": [
    "### for Lamda = 0"
   ]
  },
  {
   "cell_type": "code",
   "execution_count": 324,
   "id": "ac25759b",
   "metadata": {},
   "outputs": [],
   "source": [
    "w = np.zeros(X.shape[1])\n",
    "epochs = []\n",
    "costVal = []\n",
    "lam = 0\n",
    "lr = 0.01\n",
    "\n",
    "for i in range(1, 1000):\n",
    "    costVal.append(cost(X,y,w,lam))\n",
    "    w = w-lr*gradient_theta(X,y,w,lam)\n",
    "    epochs.append(i)"
   ]
  },
  {
   "cell_type": "code",
   "execution_count": 325,
   "id": "92100d66",
   "metadata": {},
   "outputs": [
    {
     "data": {
      "image/png": "[encoded data removed]",
      "text/plain": [
       "<Figure size 640x480 with 1 Axes>"
      ]
     },
     "metadata": {},
     "output_type": "display_data"
    }
   ],
   "source": [
    "plt.plot(epochs, costVal, c='b', label=\"Linear Fit\")\n",
    "plt.title(\"Linear Regression\")\n",
    "plt.xlabel('Epochs')\n",
    "plt.ylabel('Cost')\n",
    "plt.legend()\n",
    "plt.show()"
   ]
  },
  {
   "cell_type": "code",
   "execution_count": 326,
   "id": "b4ca7489",
   "metadata": {},
   "outputs": [
    {
     "data": {
      "text/plain": [
       "array([ 0.34473352, -0.49118489,  0.18445829, -0.48006744,  0.20629235,\n",
       "       -0.40414299])"
      ]
     },
     "execution_count": 326,
     "metadata": {},
     "output_type": "execute_result"
    }
   ],
   "source": [
    "w"
   ]
  },
  {
   "cell_type": "code",
   "execution_count": 327,
   "id": "a3b54280",
   "metadata": {},
   "outputs": [
    {
     "data": {
      "text/plain": [
       "array([ 2.09897747,  1.05165188,  0.61451364,  0.39748593,  0.24064967,\n",
       "        0.10072884, -0.25897733])"
      ]
     },
     "execution_count": 327,
     "metadata": {},
     "output_type": "execute_result"
    }
   ],
   "source": [
    "H = hypothesis(X,w)\n",
    "H"
   ]
  },
  {
   "cell_type": "code",
   "execution_count": 328,
   "id": "09e21ef4",
   "metadata": {},
   "outputs": [
    {
     "data": {
      "image/png": "[encoded data removed]",
      "text/plain": [
       "<Figure size 640x480 with 1 Axes>"
      ]
     },
     "metadata": {},
     "output_type": "display_data"
    }
   ],
   "source": [
    "plt.scatter(x,y, marker='o', c='r')\n",
    "plt.plot(x,H,marker = 'x')\n",
    "plt.show()"
   ]
  },
  {
   "cell_type": "markdown",
   "id": "b50810dc",
   "metadata": {},
   "source": [
    "### for lamda = 1"
   ]
  },
  {
   "cell_type": "code",
   "execution_count": 329,
   "id": "1f6d9817",
   "metadata": {},
   "outputs": [],
   "source": [
    "w = np.zeros(X.shape[1])\n",
    "epochs = []\n",
    "CostVal = []\n",
    "lam = 1\n",
    "lr = 0.01\n",
    "\n",
    "for i in range (1, 1000):\n",
    "    CostVal.append(cost(X,y,w,lam))\n",
    "    w = w - lr*gradient_theta(X,y,w,lam)\n",
    "    epochs.append(i)"
   ]
  },
  {
   "cell_type": "code",
   "execution_count": 330,
   "id": "9c1756e1",
   "metadata": {},
   "outputs": [
    {
     "data": {
      "text/plain": [
       "array([ 0.39014803, -0.42853918,  0.14705782, -0.38676707,  0.17806864,\n",
       "       -0.33039282])"
      ]
     },
     "execution_count": 330,
     "metadata": {},
     "output_type": "execute_result"
    }
   ],
   "source": [
    "w"
   ]
  },
  {
   "cell_type": "code",
   "execution_count": 331,
   "id": "773eb54c",
   "metadata": {},
   "outputs": [
    {
     "data": {
      "text/plain": [
       "array([ 1.85115061,  0.98532046,  0.62085923,  0.43599217,  0.29901567,\n",
       "        0.17804271, -0.12064122])"
      ]
     },
     "execution_count": 331,
     "metadata": {},
     "output_type": "execute_result"
    }
   ],
   "source": [
    "H = hypothesis(X,w)\n",
    "H"
   ]
  },
  {
   "cell_type": "code",
   "execution_count": 332,
   "id": "269bb595",
   "metadata": {},
   "outputs": [
    {
     "data": {
      "image/png": "[encoded data removed]",
      "text/plain": [
       "<Figure size 640x480 with 1 Axes>"
      ]
     },
     "metadata": {},
     "output_type": "display_data"
    }
   ],
   "source": [
    "plt.scatter(x,y, marker = 'o', c = 'r')\n",
    "plt.plot(x,H, marker = 'x')\n",
    "plt.show()"
   ]
  },
  {
   "cell_type": "markdown",
   "id": "52f7f452",
   "metadata": {},
   "source": [
    "### for lamda = 10"
   ]
  },
  {
   "cell_type": "code",
   "execution_count": 333,
   "id": "072c1be0",
   "metadata": {},
   "outputs": [],
   "source": [
    "w = np.zeros(X.shape[1])\n",
    "epochs = []\n",
    "CostVal = []\n",
    "lam = 10\n",
    "lr = 0.01\n",
    "\n",
    "for i in range(1, 1000):\n",
    "    CostVal.append(cost(X,y,w,lam))\n",
    "    w = w - lr*gradient_theta(X,y,w,lam)\n",
    "    epochs.append(i)\n",
    "    "
   ]
  },
  {
   "cell_type": "code",
   "execution_count": 334,
   "id": "9990bed0",
   "metadata": {},
   "outputs": [
    {
     "data": {
      "text/plain": [
       "array([ 0.5203436 , -0.18250968,  0.06068887, -0.14818138,  0.07435645,\n",
       "       -0.12796249])"
      ]
     },
     "execution_count": 334,
     "metadata": {},
     "output_type": "execute_result"
    }
   ],
   "source": [
    "w"
   ]
  },
  {
   "cell_type": "code",
   "execution_count": 335,
   "id": "66611de7",
   "metadata": {},
   "outputs": [
    {
     "data": {
      "text/plain": [
       "array([1.11014371, 0.76488597, 0.61701989, 0.53982968, 0.48161705,\n",
       "       0.43160691, 0.31480261])"
      ]
     },
     "execution_count": 335,
     "metadata": {},
     "output_type": "execute_result"
    }
   ],
   "source": [
    "H = hypothesis(X,w)\n",
    "H"
   ]
  },
  {
   "cell_type": "code",
   "execution_count": 336,
   "id": "6acd575d",
   "metadata": {},
   "outputs": [
    {
     "data": {
      "image/png": "[encoded data removed]",
      "text/plain": [
       "<Figure size 640x480 with 1 Axes>"
      ]
     },
     "metadata": {},
     "output_type": "display_data"
    }
   ],
   "source": [
    "plt.scatter(x,y, marker = 'o', c = 'r')\n",
    "plt.plot(x,H, marker = 'x')\n",
    "plt.show()"
   ]
  }
 ],
 "metadata": {
  "kernelspec": {
   "display_name": "Python 3",
   "language": "python",
   "name": "python3"
  },
  "language_info": {
   "codemirror_mode": {
    "name": "ipython",
    "version": 3
   },
   "file_extension": ".py",
   "mimetype": "text/x-python",
   "name": "python",
   "nbconvert_exporter": "python",
   "pygments_lexer": "ipython3",
   "version": "3.13.3"
  }
 },
 "nbformat": 4,
 "nbformat_minor": 5
}
