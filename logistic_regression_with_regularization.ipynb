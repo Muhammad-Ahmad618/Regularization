{
 "cells": [
  {
   "cell_type": "markdown",
   "id": "a7968d14",
   "metadata": {},
   "source": [
    "## Logistic Regression with Regularization"
   ]
  },
  {
   "cell_type": "code",
   "execution_count": 285,
   "id": "c778e4b0",
   "metadata": {},
   "outputs": [],
   "source": [
    "import numpy as np\n",
    "import matplotlib.pyplot as plt"
   ]
  },
  {
   "cell_type": "code",
   "execution_count": 286,
   "id": "ff0392cf",
   "metadata": {},
   "outputs": [],
   "source": [
    "x = np.loadtxt('./ex5Data/ex5Logx.dat', delimiter=',', dtype= np.float32)\n",
    "y = np.loadtxt('./ex5Data/ex5Logy.dat', dtype=np.float32)"
   ]
  },
  {
   "cell_type": "code",
   "execution_count": 287,
   "id": "d6ec97db",
   "metadata": {},
   "outputs": [
    {
     "data": {
      "text/plain": [
       "(117, 2)"
      ]
     },
     "execution_count": 287,
     "metadata": {},
     "output_type": "execute_result"
    }
   ],
   "source": [
    "x.shape"
   ]
  },
  {
   "cell_type": "code",
   "execution_count": 288,
   "id": "4fbbe9c4",
   "metadata": {},
   "outputs": [
    {
     "data": {
      "text/plain": [
       "(117,)"
      ]
     },
     "execution_count": 288,
     "metadata": {},
     "output_type": "execute_result"
    }
   ],
   "source": [
    "y.shape"
   ]
  },
  {
   "cell_type": "code",
   "execution_count": 289,
   "id": "dc368f59",
   "metadata": {},
   "outputs": [
    {
     "data": {
      "image/png": "[encoded data removed]",
      "text/plain": [
       "<Figure size 640x480 with 1 Axes>"
      ]
     },
     "metadata": {},
     "output_type": "display_data"
    }
   ],
   "source": [
    "pos = np.where(y == 1)\n",
    "neg = np.where(y == 0)\n",
    "\n",
    "plt.scatter(x[pos,0], x[pos,1], marker = '+', label = 'Positive Class')\n",
    "plt.scatter(x[neg,0], x[neg,1], marker = 'o', label = 'Negative Class')\n",
    "plt.title(\"Scatter Plot of data points\")\n",
    "plt.xlabel('x')\n",
    "plt.ylabel('y')\n",
    "plt.legend()\n",
    "plt.show()"
   ]
  },
  {
   "cell_type": "code",
   "execution_count": 290,
   "id": "bdacacb1",
   "metadata": {},
   "outputs": [],
   "source": [
    "def map_feature(u, v):\n",
    "    degree = 6  # degree of polynomial features\n",
    "    out = np.ones((u.shape[0], 1))\n",
    "    for i in range(1, degree + 1):  # Iterate over each degree up to 6\n",
    "        for j in range(i + 1):  # Iterate over each possible power combination\n",
    "            # Compute the higher-order feature and concatenate it to the output array\n",
    "            out = np.hstack((out, (u ** (i - j) * v ** j).reshape(-1, 1)))\n",
    "    return out"
   ]
  },
  {
   "cell_type": "code",
   "execution_count": 291,
   "id": "da86cdbd",
   "metadata": {},
   "outputs": [],
   "source": [
    "def hypothesis(x,w):\n",
    "    return 1/(1 + np.exp(-np.dot(x,w)))"
   ]
  },
  {
   "cell_type": "code",
   "execution_count": 292,
   "id": "5767c145",
   "metadata": {},
   "outputs": [],
   "source": [
    "def cost_function_reg(x, y, w, lam):\n",
    "    m = x.shape[0]\n",
    "    h = hypothesis(x, w)\n",
    "    epsilon = 1e-10  # Small epsilon value\n",
    "    reg_term = (lam / (2 * m)) * np.sum(w[1:] ** 2)\n",
    "    return (-1 / m) * (np.dot(y.T, np.log(h + epsilon))\n",
    "                       + np.dot((1 - y).T, np.log(1 - h + epsilon)))+ reg_term"
   ]
  },
  {
   "cell_type": "code",
   "execution_count": 293,
   "id": "5ce9444f",
   "metadata": {},
   "outputs": [],
   "source": [
    "def gradient_reg(x, y, w, lam):\n",
    "    m = len(y)\n",
    "    h = hypothesis(x, w)\n",
    "    reg_term = (lam / m) * w\n",
    "    reg_term[0] = 0  # No regularization for bias term\n",
    "    return (1 / m) * np.dot(x.T, h - y) + reg_term"
   ]
  },
  {
   "cell_type": "code",
   "execution_count": 294,
   "id": "b1e7ff42",
   "metadata": {},
   "outputs": [],
   "source": [
    "def newtons_method(X, y, theta, lam, max_iters=15):\n",
    "    m = len(y)\n",
    "    costVal = []\n",
    "    epochs = []\n",
    "\n",
    "    for i in range(max_iters):\n",
    "        costVal.append(cost_function_reg(X, y, theta, lam))\n",
    "        grad = gradient_reg(X, y, theta, lam)\n",
    "        h_theta = hypothesis(X, theta)\n",
    "        diagonal = h_theta * (1 - h_theta)\n",
    "        Hessian = (1 / m) * np.dot(X.T, np.dot(np.diag(diagonal), X)) + (lam / m) * np.eye(len(theta))\n",
    "        theta -= np.linalg.inv(Hessian).dot(grad)\n",
    "        epochs.append(i)\n",
    "\n",
    "    return theta, costVal, epochs"
   ]
  },
  {
   "cell_type": "code",
   "execution_count": null,
   "id": "4656584d",
   "metadata": {},
   "outputs": [],
   "source": [
    "X = map_feature(x[:, 0], x[:, 1])\n",
    "theta_init = np.zeros(X.shape[1])\n",
    "lambda_vals = [0, 9, 10]"
   ]
  },
  {
   "cell_type": "code",
   "execution_count": 296,
   "id": "2d8f08b9",
   "metadata": {},
   "outputs": [
    {
     "ename": "ZeroDivisionError",
     "evalue": "division by zero",
     "output_type": "error",
     "traceback": [
      "\u001b[31m---------------------------------------------------------------------------\u001b[39m",
      "\u001b[31mZeroDivisionError\u001b[39m                         Traceback (most recent call last)",
      "\u001b[36mCell\u001b[39m\u001b[36m \u001b[39m\u001b[32mIn[296]\u001b[39m\u001b[32m, line 3\u001b[39m\n\u001b[32m      1\u001b[39m \u001b[38;5;66;03m# Run Newton's method for different lambdas\u001b[39;00m\n\u001b[32m      2\u001b[39m \u001b[38;5;28;01mfor\u001b[39;00m i, lambda_val \u001b[38;5;129;01min\u001b[39;00m \u001b[38;5;28menumerate\u001b[39m(lambda_vals):\n\u001b[32m----> \u001b[39m\u001b[32m3\u001b[39m     theta_opt, J_history, _= \u001b[43mnewtons_method\u001b[49m\u001b[43m(\u001b[49m\u001b[43mX\u001b[49m\u001b[43m,\u001b[49m\u001b[43m \u001b[49m\u001b[43my\u001b[49m\u001b[43m,\u001b[49m\u001b[43m \u001b[49m\u001b[43mtheta_init\u001b[49m\u001b[43m,\u001b[49m\u001b[43m \u001b[49m\u001b[43mlambda_val\u001b[49m\u001b[43m)\u001b[49m\n\u001b[32m      4\u001b[39m     \u001b[38;5;28mprint\u001b[39m(\u001b[33mf\u001b[39m\u001b[33m\"\u001b[39m\u001b[33mFor Lambda = \u001b[39m\u001b[38;5;132;01m{\u001b[39;00mlambda_val\u001b[38;5;132;01m}\u001b[39;00m\u001b[33m:\u001b[39m\u001b[33m\"\u001b[39m)\n\u001b[32m      5\u001b[39m     \u001b[38;5;28mprint\u001b[39m(\u001b[33mf\u001b[39m\u001b[33m\"\u001b[39m\u001b[33mOptimal theta: \u001b[39m\u001b[38;5;132;01m{\u001b[39;00mtheta_opt\u001b[38;5;132;01m}\u001b[39;00m\u001b[33m\"\u001b[39m)\n",
      "\u001b[36mCell\u001b[39m\u001b[36m \u001b[39m\u001b[32mIn[294]\u001b[39m\u001b[32m, line 7\u001b[39m, in \u001b[36mnewtons_method\u001b[39m\u001b[34m(X, y, theta, lam, max_iters)\u001b[39m\n\u001b[32m      4\u001b[39m epochs = []\n\u001b[32m      6\u001b[39m \u001b[38;5;28;01mfor\u001b[39;00m i \u001b[38;5;129;01min\u001b[39;00m \u001b[38;5;28mrange\u001b[39m(max_iters):\n\u001b[32m----> \u001b[39m\u001b[32m7\u001b[39m     costVal.append(\u001b[43mcost_function_reg\u001b[49m\u001b[43m(\u001b[49m\u001b[43mX\u001b[49m\u001b[43m,\u001b[49m\u001b[43m \u001b[49m\u001b[43my\u001b[49m\u001b[43m,\u001b[49m\u001b[43m \u001b[49m\u001b[43mtheta\u001b[49m\u001b[43m,\u001b[49m\u001b[43m \u001b[49m\u001b[43mlam\u001b[49m\u001b[43m)\u001b[49m)\n\u001b[32m      8\u001b[39m     grad = gradient_reg(X, y, theta, lam)\n\u001b[32m      9\u001b[39m     h_theta = hypothesis(X, theta)\n",
      "\u001b[36mCell\u001b[39m\u001b[36m \u001b[39m\u001b[32mIn[292]\u001b[39m\u001b[32m, line 5\u001b[39m, in \u001b[36mcost_function_reg\u001b[39m\u001b[34m(x, y, w, lam)\u001b[39m\n\u001b[32m      3\u001b[39m h = hypothesis(x, w)\n\u001b[32m      4\u001b[39m epsilon = \u001b[32m1e-10\u001b[39m  \u001b[38;5;66;03m# Small epsilon value\u001b[39;00m\n\u001b[32m----> \u001b[39m\u001b[32m5\u001b[39m reg_term = (\u001b[43mlam\u001b[49m\u001b[43m \u001b[49m\u001b[43m/\u001b[49m\u001b[43m \u001b[49m\u001b[43m(\u001b[49m\u001b[32;43m2\u001b[39;49m\u001b[43m \u001b[49m\u001b[43m*\u001b[49m\u001b[43m \u001b[49m\u001b[43mm\u001b[49m\u001b[43m)\u001b[49m) * np.sum(w[\u001b[32m1\u001b[39m:] ** \u001b[32m2\u001b[39m)\n\u001b[32m      6\u001b[39m \u001b[38;5;28;01mreturn\u001b[39;00m (-\u001b[32m1\u001b[39m / m) * (np.dot(y.T, np.log(h + epsilon))\n\u001b[32m      7\u001b[39m                    + np.dot((\u001b[32m1\u001b[39m - y).T, np.log(\u001b[32m1\u001b[39m - h + epsilon)))+ reg_term\n",
      "\u001b[31mZeroDivisionError\u001b[39m: division by zero"
     ]
    }
   ],
   "source": [
    "# Run Newton's method for different lambdas\n",
    "for i, lambda_val in enumerate(lambda_vals):\n",
    "    theta_opt, J_history, _= newtons_method(X, y, theta_init, lambda_val)\n",
    "    print(f\"For Lambda = {lambda_val}:\")\n",
    "    print(f\"Optimal theta: {theta_opt}\")\n",
    "    print(f\"Final Cost: {J_history[-1]}\")\n",
    "    print()\n",
    "\n",
    "    # Plotting decision boundary\n",
    "    u = np.linspace(-1, 1.5, 200)\n",
    "    v = np.linspace(-1, 1.5, 200)\n",
    "    z = np.zeros((len(u), len(v)))\n",
    "\n",
    "    for i, ui in enumerate(u):\n",
    "        for j, vj in enumerate(v):\n",
    "            z[i, j] = np.dot(map_feature(np.array([ui]), np.array([vj])), theta_opt)\n",
    "\n",
    "    plt.contour(u, v, z.T, levels=[0], colors='k', linewidths=2)\n",
    "\n",
    "    plt.scatter(x[pos, 0], x[pos, 1], marker='+', label='Positive Class')\n",
    "    plt.scatter(x[neg, 0], x[neg, 1], marker='o', label='Negative Class')\n",
    "    plt.xlabel('u')\n",
    "    plt.ylabel('v')\n",
    "    plt.legend()\n",
    "    plt.title(f'Decision Boundary for Lambda = {lambda_val}')\n",
    "    plt.show()"
   ]
  }
 ],
 "metadata": {
  "kernelspec": {
   "display_name": "Python 3",
   "language": "python",
   "name": "python3"
  },
  "language_info": {
   "codemirror_mode": {
    "name": "ipython",
    "version": 3
   },
   "file_extension": ".py",
   "mimetype": "text/x-python",
   "name": "python",
   "nbconvert_exporter": "python",
   "pygments_lexer": "ipython3",
   "version": "3.13.3"
  }
 },
 "nbformat": 4,
 "nbformat_minor": 5
}
